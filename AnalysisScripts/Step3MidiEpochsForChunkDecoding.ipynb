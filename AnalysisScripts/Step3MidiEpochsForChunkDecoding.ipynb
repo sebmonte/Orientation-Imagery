{
 "cells": [
  {
   "cell_type": "code",
   "execution_count": 52,
   "metadata": {},
   "outputs": [
    {
     "name": "stdout",
     "output_type": "stream",
     "text": [
      "Reading /System/Volumes/Data/misc/data12/sjapee/Sebastian-OrientationImagery/Data/Bids/derivatives/preprocessed/sub-S04_Dynamic_preprocessed-epo.fif ...\n",
      "    Found the data of interest:\n",
      "        t =    -200.00 ...    3200.00 ms\n",
      "        0 CTF compensation matrices available\n",
      "Adding metadata with 8 columns\n",
      "488 matching events found\n",
      "No baseline correction applied\n",
      "0 projection items activated\n"
     ]
    }
   ],
   "source": [
    "import mne \n",
    "import numpy as np\n",
    "import pandas as pd\n",
    "\n",
    "# parameters\n",
    "n_samples_per_midiepoch = 900\n",
    "n_samples_ini = 20\n",
    "n_midiepochs_per_trial = 4\n",
    "\n",
    "\n",
    "# load data\n",
    "bids_dir = '/System/Volumes/Data/misc/data12/sjapee/Sebastian-OrientationImagery/Data/Bids'\n",
    "subject = 'S04'\n",
    "fn_movie = f'sub-{subject}_Dynamic_preprocessed-epo.fif'\n",
    "epochs_movie = mne.read_epochs(f'{bids_dir}/derivatives/preprocessed/{fn_movie}')\n",
    "epochs_movie=epochs_movie[epochs_movie.metadata['condition']!='catch']\n",
    "\n",
    "# initialize\n",
    "n_trials = epochs_movie._data.shape[0]\n",
    "n_channels = epochs_movie._data.shape[1]\n",
    "n_timepoints = epochs_movie._data.shape[2]\n"
   ]
  },
  {
   "cell_type": "code",
   "execution_count": 53,
   "metadata": {},
   "outputs": [
    {
     "name": "stdout",
     "output_type": "stream",
     "text": [
      "Not setting metadata\n",
      "448 matching events found\n",
      "No baseline correction applied\n",
      "0 projection items activated\n",
      "Adding metadata with 7 columns\n",
      "Not setting metadata\n",
      "448 matching events found\n",
      "No baseline correction applied\n",
      "0 projection items activated\n",
      "Adding metadata with 7 columns\n",
      "Not setting metadata\n",
      "448 matching events found\n",
      "No baseline correction applied\n",
      "0 projection items activated\n",
      "Adding metadata with 7 columns\n",
      "Not setting metadata\n",
      "448 matching events found\n",
      "No baseline correction applied\n",
      "0 projection items activated\n",
      "Adding metadata with 7 columns\n"
     ]
    }
   ],
   "source": [
    "onset_first_miniepoch = np.where(epochs_movie.times==0)[0][0]+n_samples_ini\n",
    "\n",
    "# setup for metadata\n",
    "miniepochs = []\n",
    "condition = epochs_movie.metadata['condition']\n",
    "direction = [c.split('_')[1] for c in condition]\n",
    "right_idx = [d=='Right' for d in direction]\n",
    "left_idx = [d=='Left' for d in direction]\n",
    "degree = [int(c.split('_')[0]) for c in condition] \n",
    "run = epochs_movie.metadata['run_nr']\n",
    "\n",
    "for i in range(n_midiepochs_per_trial):\n",
    "    # onset shifts by 20 samples, going over the entire movie\n",
    "    # remember the first mini epoch is not at image onset but 20 samples later\n",
    "    onset = onset_first_miniepoch+i*n_samples_per_midiepoch\n",
    "    me = mne.EpochsArray(epochs_movie._data[:,:,onset:onset+n_samples_per_midiepoch],info=epochs_movie.info)\n",
    "\n",
    "    # work out the wrap-around in circular space (can't have numbers >360 or <0)\n",
    "    deg = np.zeros(len(degree))\n",
    "    deg[right_idx] = np.array(degree)[right_idx]+45*i\n",
    "    deg[left_idx] = np.array(degree)[left_idx]-45*i\n",
    "\n",
    "    deg[deg>359] = deg[deg>359]-360\n",
    "    deg[deg<0] = 359-np.abs(deg[deg<0])\n",
    "\n",
    "    # make pandas metadata\n",
    "    df = pd.DataFrame()\n",
    "    df['condition']=condition\n",
    "    df['direction']=direction\n",
    "    df['start_pos']=deg\n",
    "    df['end_pos']=deg + 45\n",
    "    df['chunk']=i\n",
    "    df['trialnum']=np.arange(n_trials)\n",
    "    df['run'] = run\n",
    "\n",
    "    me.metadata = df\n",
    "    miniepochs.append(me)\n"
   ]
  },
  {
   "cell_type": "code",
   "execution_count": 31,
   "metadata": {},
   "outputs": [
    {
     "name": "stdout",
     "output_type": "stream",
     "text": [
      "<EpochsArray |  1 events (all good), 0 – 0.749167 s, baseline off, ~2.1 MB, data loaded, with metadata,\n",
      " '1': 1>\n"
     ]
    }
   ],
   "source": [
    "print(miniepochs[0][1])"
   ]
  },
  {
   "cell_type": "code",
   "execution_count": 54,
   "metadata": {},
   "outputs": [
    {
     "name": "stdout",
     "output_type": "stream",
     "text": [
      "Adding metadata with 7 columns\n",
      "1792 matching events found\n",
      "No baseline correction applied\n"
     ]
    }
   ],
   "source": [
    "# concatenate all timepoints\n",
    "mini_epochs = mne.concatenate_epochs(miniepochs)\n",
    "\n",
    "# save them\n",
    "file_name = f'{bids_dir}/derivatives/preprocessed/sub-{subject}_midiEpochs_preprocessed-epo.fif'\n",
    "mini_epochs.save(file_name, overwrite=True)"
   ]
  }
 ],
 "metadata": {
  "kernelspec": {
   "display_name": "mne2",
   "language": "python",
   "name": "python3"
  },
  "language_info": {
   "codemirror_mode": {
    "name": "ipython",
    "version": 3
   },
   "file_extension": ".py",
   "mimetype": "text/x-python",
   "name": "python",
   "nbconvert_exporter": "python",
   "pygments_lexer": "ipython3",
   "version": "3.12.2"
  }
 },
 "nbformat": 4,
 "nbformat_minor": 2
}
